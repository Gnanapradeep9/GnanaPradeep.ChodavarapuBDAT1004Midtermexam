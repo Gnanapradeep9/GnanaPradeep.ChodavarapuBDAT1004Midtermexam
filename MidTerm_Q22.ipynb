{
 "cells": [
  {
   "cell_type": "markdown",
   "id": "dd56c33c-1b36-4f23-8cff-dc11c1c03f7d",
   "metadata": {},
   "source": [
    "# Question 22\n",
    "+---------------+---------+\r\n",
    "| Column Name   | Type    |\r\n",
    "+---------------+---------+\r\n",
    "| id            | int     |\r\n",
    "| recordDate    | date    |\r\n",
    "| temperature   | int     |\r\n",
    "+---------------+---------+\r\n",
    "id is the column with unique values for this table.\r\n",
    "This table contains information about the temperature on a certain day.\r\n",
    " \r\n",
    " \r\n",
    "\r\n",
    "Write a solution to find all dates' Id with higher temperatures compared to its previous dates (yesterday).\r\n",
    "\r\n",
    "Return the result table in any order.\r\n",
    "\r\n",
    "Please use the following input Weather table for your solution. To receive full marks you will need to create the database, create the table, insert the data below and execute the SQL query.\r\n",
    "\r\n",
    " \r\n",
    "\r\n",
    "Input: \r\n",
    "Weather table:\r\n",
    "+----+------------+-------------+\r\n",
    "| id | recordDate | temperature |\r\n",
    "+----+------------+-------------+\r\n",
    "| 1  | 2015-01-01 | 10          |\r\n",
    "| 2  | 2015-01-02 | 25          |\r\n",
    "| 3  | 2015-01-03 | 20          |\r\n",
    "| 4  | 2015-01-04 | 30          |\r\n",
    "+----+------------+-------------+\r\n",
    "Output: \r\n",
    "+----+\r\n",
    "| id |\r\n",
    "+----+\r\n",
    "| 2  |\r\n",
    "| 4  |\r\n",
    "+----+\r\n",
    "Explanation: \r\n",
    "In 2015-01-02, the temperature was higher than the previous day (10 -> 25).\r\n",
    "In 2015-01-04, the temperature was higher than the previous day (20 -> 30)."
   ]
  },
  {
   "cell_type": "code",
   "execution_count": 1,
   "id": "8f2ec0d9",
   "metadata": {},
   "outputs": [],
   "source": [
    "%load_ext sql\n",
    "%sql sqlite://"
   ]
  },
  {
   "cell_type": "code",
   "execution_count": 2,
   "id": "c172ae11",
   "metadata": {},
   "outputs": [],
   "source": [
    "#Creating weather table"
   ]
  },
  {
   "cell_type": "code",
   "execution_count": 3,
   "id": "892c38d6",
   "metadata": {},
   "outputs": [
    {
     "name": "stdout",
     "output_type": "stream",
     "text": [
      " * sqlite://\n",
      "Done.\n"
     ]
    },
    {
     "data": {
      "text/plain": [
       "[]"
      ]
     },
     "execution_count": 3,
     "metadata": {},
     "output_type": "execute_result"
    }
   ],
   "source": [
    "%%sql \n",
    "CREATE TABLE IF NOT EXISTS weather (\n",
    "    id INT PRIMARY KEY,\n",
    "    recordDate DATE,\n",
    "    temperature INT\n",
    ");"
   ]
  },
  {
   "cell_type": "code",
   "execution_count": 4,
   "id": "ea619579",
   "metadata": {},
   "outputs": [],
   "source": [
    "#Inserting values in the table"
   ]
  },
  {
   "cell_type": "code",
   "execution_count": 5,
   "id": "147719c7",
   "metadata": {},
   "outputs": [
    {
     "name": "stdout",
     "output_type": "stream",
     "text": [
      " * sqlite://\n",
      "4 rows affected.\n"
     ]
    },
    {
     "data": {
      "text/plain": [
       "[]"
      ]
     },
     "execution_count": 5,
     "metadata": {},
     "output_type": "execute_result"
    }
   ],
   "source": [
    "%%sql\n",
    "INSERT INTO weather (id, recordDate, temperature) VALUES\n",
    "(1, '2015-01-01', 10),\n",
    "(2, '2015-01-02', 25),\n",
    "(3, '2015-01-03', 20),\n",
    "(4, '2015-01-04', 30);"
   ]
  },
  {
   "cell_type": "code",
   "execution_count": 6,
   "id": "99b07e2f",
   "metadata": {},
   "outputs": [],
   "source": [
    "#Table Review"
   ]
  },
  {
   "cell_type": "code",
   "execution_count": 7,
   "id": "458bb355",
   "metadata": {
    "scrolled": true
   },
   "outputs": [
    {
     "name": "stdout",
     "output_type": "stream",
     "text": [
      " * sqlite://\n",
      "Done.\n"
     ]
    },
    {
     "data": {
      "text/html": [
       "<table>\n",
       "    <thead>\n",
       "        <tr>\n",
       "            <th>id</th>\n",
       "            <th>recordDate</th>\n",
       "            <th>temperature</th>\n",
       "        </tr>\n",
       "    </thead>\n",
       "    <tbody>\n",
       "        <tr>\n",
       "            <td>1</td>\n",
       "            <td>2015-01-01</td>\n",
       "            <td>10</td>\n",
       "        </tr>\n",
       "        <tr>\n",
       "            <td>2</td>\n",
       "            <td>2015-01-02</td>\n",
       "            <td>25</td>\n",
       "        </tr>\n",
       "        <tr>\n",
       "            <td>3</td>\n",
       "            <td>2015-01-03</td>\n",
       "            <td>20</td>\n",
       "        </tr>\n",
       "        <tr>\n",
       "            <td>4</td>\n",
       "            <td>2015-01-04</td>\n",
       "            <td>30</td>\n",
       "        </tr>\n",
       "    </tbody>\n",
       "</table>"
      ],
      "text/plain": [
       "[(1, '2015-01-01', 10),\n",
       " (2, '2015-01-02', 25),\n",
       " (3, '2015-01-03', 20),\n",
       " (4, '2015-01-04', 30)]"
      ]
     },
     "execution_count": 7,
     "metadata": {},
     "output_type": "execute_result"
    }
   ],
   "source": [
    "%%sql\n",
    "SELECT * FROM weather"
   ]
  },
  {
   "cell_type": "code",
   "execution_count": 8,
   "id": "5734d562",
   "metadata": {},
   "outputs": [],
   "source": [
    "#solution to find all dates' Id with higher temperatures compared to its previous dates (yesterday)."
   ]
  },
  {
   "cell_type": "code",
   "execution_count": 9,
   "id": "1d238c7d",
   "metadata": {},
   "outputs": [
    {
     "name": "stdout",
     "output_type": "stream",
     "text": [
      " * sqlite://\n",
      "Done.\n"
     ]
    },
    {
     "data": {
      "text/html": [
       "<table>\n",
       "    <thead>\n",
       "        <tr>\n",
       "            <th>id</th>\n",
       "        </tr>\n",
       "    </thead>\n",
       "    <tbody>\n",
       "        <tr>\n",
       "            <td>2</td>\n",
       "        </tr>\n",
       "        <tr>\n",
       "            <td>4</td>\n",
       "        </tr>\n",
       "    </tbody>\n",
       "</table>"
      ],
      "text/plain": [
       "[(2,), (4,)]"
      ]
     },
     "execution_count": 9,
     "metadata": {},
     "output_type": "execute_result"
    }
   ],
   "source": [
    "%%sql \n",
    "SELECT w.id FROM weather w \n",
    "JOIN Weather w1 ON date(w.recordDate, '-1 day') = w1.recordDate \n",
    "WHERE w.temperature > w1.temperature;\n"
   ]
  }
 ],
 "metadata": {
  "kernelspec": {
   "display_name": "Python 3 (ipykernel)",
   "language": "python",
   "name": "python3"
  },
  "language_info": {
   "codemirror_mode": {
    "name": "ipython",
    "version": 3
   },
   "file_extension": ".py",
   "mimetype": "text/x-python",
   "name": "python",
   "nbconvert_exporter": "python",
   "pygments_lexer": "ipython3",
   "version": "3.11.7"
  }
 },
 "nbformat": 4,
 "nbformat_minor": 5
}
