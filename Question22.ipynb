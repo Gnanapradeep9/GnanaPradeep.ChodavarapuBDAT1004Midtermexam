{
 "cells": [
  {
   "cell_type": "code",
   "execution_count": 4,
   "id": "d6659220-5f2a-46a6-8662-2f6ec5cafd6b",
   "metadata": {},
   "outputs": [
    {
     "ename": "SyntaxError",
     "evalue": "invalid syntax (90111841.py, line 4)",
     "output_type": "error",
     "traceback": [
      "\u001b[1;36m  Cell \u001b[1;32mIn[4], line 4\u001b[1;36m\u001b[0m\n\u001b[1;33m    CREATE TABLE IF NOT EXISTS weather (\u001b[0m\n\u001b[1;37m           ^\u001b[0m\n\u001b[1;31mSyntaxError\u001b[0m\u001b[1;31m:\u001b[0m invalid syntax\n"
     ]
    }
   ],
   "source": [
    "%load_ext sql\n",
    "%sql sqlite://\n",
    "%%sql \n",
    "CREATE TABLE IF NOT EXISTS weather (\n",
    "    id INT PRIMARY KEY,\n",
    "    recordDate DATE,\n",
    "    temperature INT\n",
    ");\n",
    "%%sql\n",
    "INSERT INTO weather (id, recordDate, temperature) VALUES\n",
    "(1, '2015-01-01', 10),\n",
    "(2, '2015-01-02', 25),\n",
    "(3, '2015-01-03', 20),\n",
    "(4, '2015-01-04', 30);\n",
    "%%sql\n",
    "SELECT * FROM weather\n",
    "%%sql \n",
    "SELECT w.id FROM weather w \n",
    "JOIN Weather w1 ON date(w.recordDate, '-1 day') = w1.recordDate \n",
    "WHERE w.temperature > w1.temperature;\n"
   ]
  },
  {
   "cell_type": "code",
   "execution_count": null,
   "id": "4cc5d8c8-0f92-4cf7-9229-615df53e60bb",
   "metadata": {},
   "outputs": [],
   "source": []
  }
 ],
 "metadata": {
  "kernelspec": {
   "display_name": "Python 3 (ipykernel)",
   "language": "python",
   "name": "python3"
  },
  "language_info": {
   "codemirror_mode": {
    "name": "ipython",
    "version": 3
   },
   "file_extension": ".py",
   "mimetype": "text/x-python",
   "name": "python",
   "nbconvert_exporter": "python",
   "pygments_lexer": "ipython3",
   "version": "3.11.7"
  }
 },
 "nbformat": 4,
 "nbformat_minor": 5
}
