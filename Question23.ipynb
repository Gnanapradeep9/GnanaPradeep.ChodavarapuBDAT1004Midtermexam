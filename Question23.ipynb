{
 "cells": [
  {
   "cell_type": "markdown",
   "id": "27c03280-29a8-40d5-a4fc-ef72f16cc70b",
   "metadata": {},
   "source": [
    "# Question 23\n",
    "Develop a recursive function tough() that takes two nonnegative integer arguments and outputs a pattern as shown below. Hint: The first argument represents the indentation of the pattern, whereas the second argument -- always a pattern of 2 indicates the number *s in the longest line of *s in the pattern"
   ]
  },
  {
   "cell_type": "code",
   "execution_count": 12,
   "id": "de114cf1-867a-417b-863e-6cdadc35d348",
   "metadata": {},
   "outputs": [],
   "source": [
    "def tough(i, n):\n",
    "    if n == 0:\n",
    "        return\n",
    "    tough(i, n - 1)\n",
    "    print(' ' * i + '*' * n)\n",
    "    tough(i, n - 1)\n"
   ]
  },
  {
   "cell_type": "code",
   "execution_count": 14,
   "id": "97002c2d-08a7-4bd9-8c6a-6f9df457b210",
   "metadata": {},
   "outputs": [],
   "source": [
    "tough(0,0)"
   ]
  },
  {
   "cell_type": "code",
   "execution_count": 7,
   "id": "7e988d74-0b4f-4438-915f-c80af5778e56",
   "metadata": {},
   "outputs": [
    {
     "name": "stdout",
     "output_type": "stream",
     "text": [
      "*\n"
     ]
    }
   ],
   "source": [
    "tough(0,1)"
   ]
  },
  {
   "cell_type": "code",
   "execution_count": 8,
   "id": "2ee3ff3e-3f72-4c33-ba08-cca2d942d42c",
   "metadata": {},
   "outputs": [
    {
     "name": "stdout",
     "output_type": "stream",
     "text": [
      "*\n",
      "**\n",
      "*\n"
     ]
    }
   ],
   "source": [
    "tough(0,2)"
   ]
  },
  {
   "cell_type": "code",
   "execution_count": 9,
   "id": "f545d600-0326-42db-8414-e49dde4a0cab",
   "metadata": {},
   "outputs": [
    {
     "name": "stdout",
     "output_type": "stream",
     "text": [
      "*\n",
      "**\n",
      "*\n",
      "***\n",
      "*\n",
      "**\n",
      "*\n",
      "****\n",
      "*\n",
      "**\n",
      "*\n",
      "***\n",
      "*\n",
      "**\n",
      "*\n"
     ]
    }
   ],
   "source": [
    "tough(0,4)"
   ]
  },
  {
   "cell_type": "code",
   "execution_count": null,
   "id": "d900bb98-ceb0-4b62-919b-a6dffc4270f1",
   "metadata": {},
   "outputs": [],
   "source": []
  }
 ],
 "metadata": {
  "kernelspec": {
   "display_name": "Python 3 (ipykernel)",
   "language": "python",
   "name": "python3"
  },
  "language_info": {
   "codemirror_mode": {
    "name": "ipython",
    "version": 3
   },
   "file_extension": ".py",
   "mimetype": "text/x-python",
   "name": "python",
   "nbconvert_exporter": "python",
   "pygments_lexer": "ipython3",
   "version": "3.11.7"
  }
 },
 "nbformat": 4,
 "nbformat_minor": 5
}
