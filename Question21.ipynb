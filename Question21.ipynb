{
 "cells": [
  {
   "cell_type": "markdown",
   "id": "891fe85b-2544-4bfd-906b-5f9a02b273fd",
   "metadata": {},
   "source": [
    "# Question 21\n",
    "__int()__: Constructor that takes as input a pair of Point objects that represent the ends points of the line segment\r\n",
    "\r\n",
    "Length():: returns the length if the segment \r\n",
    "\r\n",
    "Slope() returns the slope of the segment of none if the slope is unbounded \r\n",
    "\r\n",
    " \r\n",
    "\r\n",
    ">>> p1 = Point(3,4)\r\n",
    "\r\n",
    ">>> p2 = Point()\r\n",
    "\r\n",
    ">>> s = Segment(p1,p2)\r\n",
    "\r\n",
    ">>> s.length()\r\n",
    "\r\n",
    "5.0\r\n",
    "\r\n",
    ">>> s.slope()\r\n",
    "\r\n",
    "0.75"
   ]
  },
  {
   "cell_type": "code",
   "execution_count": 1,
   "id": "dc811eda-cf4f-4445-b71b-dfa925b98d80",
   "metadata": {},
   "outputs": [],
   "source": [
    "import math\n",
    "\n",
    "class Point:                              #create point class\n",
    "    def __init__(self, x=0, y=0):\n",
    "        self.x = x\n",
    "        self.y = y\n",
    "\n",
    "class Segment:                            #create segment class\n",
    "    def __init__(self, p1, p2):\n",
    "        self.p1 = p1\n",
    "        self.p2 = p2\n",
    "\n",
    "    def length(self):\n",
    "        return math.sqrt((self.p2.x - self.p1.x) ** 2 + (self.p2.y - self.p1.y) ** 2)\n",
    "\n",
    "    def slope(self):\n",
    "        if self.p2.x == self.p1.x:  \n",
    "            return None\n",
    "        return (self.p2.y - self.p1.y) / (self.p2.x - self.p1.x)\n",
    "\n",
    "\n",
    "p1 = Point(3, 4)\n",
    "p2 = Point()\n",
    "s = Segment(p1, p2)\n",
    "\n"
   ]
  },
  {
   "cell_type": "code",
   "execution_count": 3,
   "id": "96950ed1-dde8-4b21-86be-6a90f9b2fd81",
   "metadata": {},
   "outputs": [
    {
     "name": "stdout",
     "output_type": "stream",
     "text": [
      "5.0\n",
      "1.3333333333333333\n"
     ]
    }
   ],
   "source": [
    "print(s.length())\n",
    "print(s.slope())\n"
   ]
  },
  {
   "cell_type": "code",
   "execution_count": null,
   "id": "be52d43c-4712-402c-b5c8-f9b4f7bd9822",
   "metadata": {},
   "outputs": [],
   "source": []
  }
 ],
 "metadata": {
  "kernelspec": {
   "display_name": "Python 3 (ipykernel)",
   "language": "python",
   "name": "python3"
  },
  "language_info": {
   "codemirror_mode": {
    "name": "ipython",
    "version": 3
   },
   "file_extension": ".py",
   "mimetype": "text/x-python",
   "name": "python",
   "nbconvert_exporter": "python",
   "pygments_lexer": "ipython3",
   "version": "3.11.7"
  }
 },
 "nbformat": 4,
 "nbformat_minor": 5
}
